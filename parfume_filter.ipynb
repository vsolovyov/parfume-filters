{
 "cells": [
  {
   "cell_type": "code",
   "execution_count": 1,
   "metadata": {
    "collapsed": true
   },
   "outputs": [],
   "source": [
    "import random\n",
    "from collections import namedtuple, Counter"
   ]
  },
  {
   "cell_type": "code",
   "execution_count": 2,
   "metadata": {},
   "outputs": [],
   "source": [
    "sex = ['m', 'f', 'uni']\n",
    "accords = ['acc' + str(i) for i in range(1, 51)]\n",
    "notes = ['note' + str(i) for i in range(1, 121)]\n",
    "\n",
    "#Parfume = namedtuple('Parfume', 'name sex accords notes')\n",
    "parfumes = [dict(\n",
    "    name='p' + str(i), \n",
    "    sex=random.choice(sex), \n",
    "    accords=set(random.choices(accords, k=random.randint(3, 4))), \n",
    "    notes=set(random.choices(notes, k=random.randint(2, 6)))) \n",
    "            for i in range(1, 17001)]"
   ]
  },
  {
   "cell_type": "code",
   "execution_count": 3,
   "metadata": {
    "collapsed": true
   },
   "outputs": [],
   "source": [
    "empty_filter = {'accords': [], 'notes': []}\n",
    "filters = {**empty_filter, 'sex': 'f', 'accords': ['acc10', 'acc21']}\n",
    "\n",
    "def is_selected(parfume, filters=filters):\n",
    "    # replace `all()` with `any()` for OR logic\n",
    "    return (('sex' not in filters or filters['sex'] == parfume['sex']) and\n",
    "            all(accord in parfume['accords'] for accord in filters['accords']) and\n",
    "            all(note in parfume['notes'] for accord in filters['notes']))"
   ]
  },
  {
   "cell_type": "code",
   "execution_count": 4,
   "metadata": {},
   "outputs": [
    {
     "data": {
      "text/plain": [
       "[{'accords': {'acc10', 'acc2', 'acc21', 'acc33'},\n",
       "  'name': 'p422',\n",
       "  'notes': {'note110', 'note33', 'note47', 'note58', 'note67', 'note69'},\n",
       "  'sex': 'f'},\n",
       " {'accords': {'acc10', 'acc21', 'acc22', 'acc28'},\n",
       "  'name': 'p585',\n",
       "  'notes': {'note11', 'note33', 'note58', 'note8'},\n",
       "  'sex': 'f'},\n",
       " {'accords': {'acc10', 'acc12', 'acc14', 'acc21'},\n",
       "  'name': 'p3921',\n",
       "  'notes': {'note119', 'note14', 'note18', 'note44', 'note99'},\n",
       "  'sex': 'f'},\n",
       " {'accords': {'acc10', 'acc20', 'acc21', 'acc30'},\n",
       "  'name': 'p4763',\n",
       "  'notes': {'note115', 'note14', 'note21', 'note4', 'note74', 'note94'},\n",
       "  'sex': 'f'},\n",
       " {'accords': {'acc10', 'acc21', 'acc32', 'acc4'},\n",
       "  'name': 'p4803',\n",
       "  'notes': {'note1', 'note19', 'note58', 'note70', 'note98'},\n",
       "  'sex': 'f'},\n",
       " {'accords': {'acc10', 'acc14', 'acc21', 'acc26'},\n",
       "  'name': 'p6075',\n",
       "  'notes': {'note1', 'note112', 'note30', 'note68', 'note80', 'note99'},\n",
       "  'sex': 'f'},\n",
       " {'accords': {'acc10', 'acc12', 'acc14', 'acc21'},\n",
       "  'name': 'p7089',\n",
       "  'notes': {'note44', 'note59', 'note87'},\n",
       "  'sex': 'f'},\n",
       " {'accords': {'acc10', 'acc21', 'acc9'},\n",
       "  'name': 'p9770',\n",
       "  'notes': {'note102', 'note106', 'note42', 'note49', 'note86'},\n",
       "  'sex': 'f'},\n",
       " {'accords': {'acc10', 'acc21', 'acc22'},\n",
       "  'name': 'p10493',\n",
       "  'notes': {'note1', 'note119', 'note55', 'note61'},\n",
       "  'sex': 'f'},\n",
       " {'accords': {'acc10', 'acc21', 'acc37', 'acc47'},\n",
       "  'name': 'p11295',\n",
       "  'notes': {'note102', 'note15', 'note22', 'note34', 'note6', 'note93'},\n",
       "  'sex': 'f'},\n",
       " {'accords': {'acc10', 'acc21', 'acc8'},\n",
       "  'name': 'p11715',\n",
       "  'notes': {'note41', 'note9'},\n",
       "  'sex': 'f'},\n",
       " {'accords': {'acc10', 'acc21', 'acc30', 'acc42'},\n",
       "  'name': 'p12255',\n",
       "  'notes': {'note35', 'note43', 'note62'},\n",
       "  'sex': 'f'},\n",
       " {'accords': {'acc10', 'acc21', 'acc22', 'acc44'},\n",
       "  'name': 'p12782',\n",
       "  'notes': {'note105', 'note106', 'note23', 'note37', 'note79', 'note8'},\n",
       "  'sex': 'f'},\n",
       " {'accords': {'acc10', 'acc21', 'acc22', 'acc44'},\n",
       "  'name': 'p13012',\n",
       "  'notes': {'note44', 'note47', 'note57', 'note89'},\n",
       "  'sex': 'f'},\n",
       " {'accords': {'acc10', 'acc21', 'acc37', 'acc41'},\n",
       "  'name': 'p15660',\n",
       "  'notes': {'note58', 'note95'},\n",
       "  'sex': 'f'},\n",
       " {'accords': {'acc10', 'acc21', 'acc49'},\n",
       "  'name': 'p16010',\n",
       "  'notes': {'note112', 'note2', 'note22', 'note44', 'note96'},\n",
       "  'sex': 'f'},\n",
       " {'accords': {'acc10', 'acc21'},\n",
       "  'name': 'p16067',\n",
       "  'notes': {'note54', 'note89'},\n",
       "  'sex': 'f'}]"
      ]
     },
     "execution_count": 4,
     "metadata": {},
     "output_type": "execute_result"
    }
   ],
   "source": [
    "found = list(filter(is_selected, parfumes))\n",
    "found"
   ]
  },
  {
   "cell_type": "code",
   "execution_count": 5,
   "metadata": {},
   "outputs": [],
   "source": [
    "def get_facet_counts(found, filters, facet_name):\n",
    "    counts = Counter()\n",
    "    for parfume in found:\n",
    "        counts.update(parfume[facet_name])\n",
    "    for selected in filters[facet_name]:\n",
    "        counts.pop(selected)\n",
    "    return counts"
   ]
  },
  {
   "cell_type": "code",
   "execution_count": 6,
   "metadata": {},
   "outputs": [
    {
     "data": {
      "text/plain": [
       "[('acc22', 4),\n",
       " ('acc14', 3),\n",
       " ('acc12', 2),\n",
       " ('acc30', 2),\n",
       " ('acc37', 2),\n",
       " ('acc44', 2),\n",
       " ('acc33', 1),\n",
       " ('acc2', 1),\n",
       " ('acc28', 1),\n",
       " ('acc20', 1)]"
      ]
     },
     "execution_count": 6,
     "metadata": {},
     "output_type": "execute_result"
    }
   ],
   "source": [
    "get_facet_counts(found, filters, 'accords').most_common(10)"
   ]
  },
  {
   "cell_type": "code",
   "execution_count": 7,
   "metadata": {},
   "outputs": [
    {
     "data": {
      "text/plain": [
       "[('note58', 4),\n",
       " ('note44', 4),\n",
       " ('note1', 3),\n",
       " ('note33', 2),\n",
       " ('note47', 2),\n",
       " ('note8', 2),\n",
       " ('note14', 2),\n",
       " ('note119', 2),\n",
       " ('note99', 2),\n",
       " ('note112', 2)]"
      ]
     },
     "execution_count": 7,
     "metadata": {},
     "output_type": "execute_result"
    }
   ],
   "source": [
    "get_facet_counts(found, filters, 'notes').most_common(10)"
   ]
  },
  {
   "cell_type": "code",
   "execution_count": 8,
   "metadata": {},
   "outputs": [
    {
     "data": {
      "text/plain": [
       "[('acc16', 1221),\n",
       " ('acc7', 1217),\n",
       " ('acc22', 1210),\n",
       " ('acc24', 1208),\n",
       " ('acc39', 1208),\n",
       " ('acc27', 1208),\n",
       " ('acc11', 1202),\n",
       " ('acc49', 1202),\n",
       " ('acc34', 1197),\n",
       " ('acc45', 1193)]"
      ]
     },
     "execution_count": 8,
     "metadata": {},
     "output_type": "execute_result"
    }
   ],
   "source": [
    "get_facet_counts(parfumes, empty_filter, 'accords').most_common(10)"
   ]
  },
  {
   "cell_type": "code",
   "execution_count": 9,
   "metadata": {},
   "outputs": [
    {
     "data": {
      "text/plain": [
       "[('note80', 625),\n",
       " ('note14', 614),\n",
       " ('note110', 614),\n",
       " ('note107', 613),\n",
       " ('note95', 609),\n",
       " ('note26', 602),\n",
       " ('note60', 599),\n",
       " ('note5', 597),\n",
       " ('note118', 595),\n",
       " ('note98', 593)]"
      ]
     },
     "execution_count": 9,
     "metadata": {},
     "output_type": "execute_result"
    }
   ],
   "source": [
    "get_facet_counts(parfumes, empty_filter, 'notes').most_common(10)"
   ]
  },
  {
   "cell_type": "code",
   "execution_count": null,
   "metadata": {
    "collapsed": true
   },
   "outputs": [],
   "source": []
  }
 ],
 "metadata": {
  "kernelspec": {
   "display_name": "Python 3",
   "language": "python",
   "name": "python3"
  },
  "language_info": {
   "codemirror_mode": {
    "name": "ipython",
    "version": 3
   },
   "file_extension": ".py",
   "mimetype": "text/x-python",
   "name": "python",
   "nbconvert_exporter": "python",
   "pygments_lexer": "ipython3",
   "version": "3.6.1"
  }
 },
 "nbformat": 4,
 "nbformat_minor": 2
}
